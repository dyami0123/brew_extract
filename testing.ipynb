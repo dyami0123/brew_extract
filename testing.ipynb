{
 "cells": [
  {
   "cell_type": "code",
   "execution_count": null,
   "metadata": {},
   "outputs": [],
   "source": [
    "\n",
    "%matplotlib inline\n",
    "import pyarrow as pa\n",
    "import pandas as pd\n",
    "import pyarrow.compute as pc\n",
    "from pyarrow import csv\n",
    "import numpy as np\n",
    "\n",
    "from data_pipeline_homebrew.pandas import pandas_pipeline as pp\n",
    "from importlib import reload\n",
    "import io\n",
    "import requests\n",
    "\n",
    "reload(pp)\n",
    "\n",
    "\n",
    "\n",
    "url:str = r\"https://oedi-data-lake.s3.amazonaws.com/nrel-pds-building-stock/end-use-load-profiles-for-us-building-stock/2024/resstock_tmy3_release_2/timeseries_aggregates/by_ashrae_iecc_climate_zone_2004/upgrade=0/ashrae_iecc_climate_zone_2004=1A/up00-1a-multi-family_with_2_-_4_units.csv\"\n",
    "\n",
    "\n",
    "csv_data = pp.LocalCSVDataSource(url)\n",
    "\n",
    "def fuel_summation_schema_function(schema: pp.PandasSchema):\n",
    "    return pp.PandasSchema(\n",
    "        {\n",
    "            'electricity': np.float64,\n",
    "            'natural_gas': np.float64,\n",
    "            'fuel_oil': np.float64,\n",
    "        }\n",
    "    )\n",
    "\n",
    "def fuel_summation_function(data: pd.DataFrame):\n",
    "    fuels = [\n",
    "        'electricity',\n",
    "        'natural_gas',\n",
    "        'fuel_oil',\n",
    "    ]\n",
    "    fuel_columns = {\n",
    "        fuel: [col for col in data.columns if fuel in col]\n",
    "        for fuel in fuels\n",
    "    }\n",
    "\n",
    "    data_dict = {fuel: data[fuel_columns[fuel]].sum(axis=1)\n",
    "        for fuel, cols in fuel_columns.items()\n",
    "    }\n",
    "    return pd.DataFrame(data_dict)\n",
    "\n",
    "fuel_summation_transformer = pp.PandasTransformer(\n",
    "    transform_function=fuel_summation_function,\n",
    "    schema_function=fuel_summation_schema_function\n",
    ")\n",
    "\n",
    "builder = pp.PandasMatplotlibPipelineBuilder.empty()\n",
    "\n",
    "builder.add_source(source=csv_data, stack_id=\"0\")\n",
    "builder.add_transformer(transformer=fuel_summation_transformer, target_stack_id=\"1\", source_stack_id=\"0\")\n",
    "builder.add_artifact(stack_id=\"1\", artifact_class=pp.SimpleLinePlot)\n",
    "builder.add_artifact(stack_id=\"0\", artifact_class=pp.SimpleLinePlot)\n",
    "\n",
    "builder.generate(), builder.stacks\n",
    "\n",
    "\n",
    "\n",
    "\n"
   ]
  },
  {
   "cell_type": "code",
   "execution_count": null,
   "metadata": {},
   "outputs": [],
   "source": []
  },
  {
   "cell_type": "code",
   "execution_count": null,
   "metadata": {},
   "outputs": [],
   "source": [
    "import pandas as pd\n",
    "df = pd.read_csv(ResstockDataSource().url)\n",
    "df"
   ]
  },
  {
   "cell_type": "code",
   "execution_count": null,
   "metadata": {},
   "outputs": [],
   "source": [
    "fuels = FuelSummationTransformer().end_uses\n",
    "fuel_sums = {\n",
    "    fuel: df[[col for col in df.columns if fuel in col]].sum(axis=1)\n",
    "    for fuel in fuels\n",
    "}\n",
    "pd.DataFrame(fuel_sums).plot()"
   ]
  },
  {
   "cell_type": "code",
   "execution_count": null,
   "metadata": {},
   "outputs": [],
   "source": [
    "!pip install requests"
   ]
  }
 ],
 "metadata": {
  "kernelspec": {
   "display_name": "data_pipeline_dev",
   "language": "python",
   "name": "python3"
  },
  "language_info": {
   "codemirror_mode": {
    "name": "ipython",
    "version": 3
   },
   "file_extension": ".py",
   "mimetype": "text/x-python",
   "name": "python",
   "nbconvert_exporter": "python",
   "pygments_lexer": "ipython3",
   "version": "3.10.14"
  }
 },
 "nbformat": 4,
 "nbformat_minor": 2
}
